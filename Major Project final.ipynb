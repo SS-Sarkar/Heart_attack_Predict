{
 "cells": [
  {
   "cell_type": "code",
   "execution_count": 1,
   "id": "182c9df3",
   "metadata": {},
   "outputs": [
    {
     "name": "stdout",
     "output_type": "stream",
     "text": [
      "Accuracy on Training Data: 0.8471074380165289\n",
      "Accuracy on Testing Data: 0.8032786885245902\n",
      "[0]\n",
      "The Person does not have a Heart Disease\n"
     ]
    }
   ],
   "source": [
    "# Part A: Data Preproseccing\n",
    "# Step 1:Importing the Libraries¶\n",
    "import numpy as np\n",
    "import pandas as pd\n",
    "from sklearn.impute import SimpleImputer\n",
    "from sklearn.model_selection import train_test_split\n",
    "from sklearn.preprocessing import StandardScaler\n",
    "from sklearn.linear_model import LogisticRegression\n",
    "from sklearn.metrics import accuracy_score\n",
    "\n",
    "# Step 2:Import data set\n",
    "dataset=pd.read_csv(\"heart.csv\")\n",
    "\n",
    "# Step 3:To create feature matrix(x) and dependent variable vector(y)\n",
    "x=dataset.iloc[:,:-1].values\n",
    "y=dataset.iloc[:,-1].values\n",
    "\n",
    "#Step 4: Replace the missing data\n",
    "imputer=SimpleImputer(missing_values=np.nan,strategy='mean')\n",
    "imputer.fit(x[:,:])\n",
    "x[:,:]=imputer.transform(x[:,:])\n",
    "\n",
    "# Step 5:Spiliting of data set into training and testing set\n",
    "xtrain,xtest,ytrain,ytest=train_test_split(x,y,test_size= 0.2,stratify = y,random_state = 2)\n",
    "\n",
    "# Step 6:Feature scaling\n",
    "sc=StandardScaler()\n",
    "xtrain=sc.fit_transform(xtrain)\n",
    "xtest=sc.fit_transform(xtest)\n",
    "\n",
    "# Model Training\n",
    "# LogisticRegression Model\n",
    "model = LogisticRegression()\n",
    "# training the LogisticRegression model with Training data\n",
    "model.fit(xtrain,ytrain)\n",
    "\n",
    "# Model Evaluation\n",
    "# Accuracy Score\n",
    "# Accuracy on Training Data \n",
    "xtrain_prediction = model.predict(xtrain)\n",
    "training_data_accuracy = accuracy_score(xtrain_prediction,ytrain)\n",
    "print('Accuracy on Training Data:',training_data_accuracy)\n",
    "\n",
    "# Accuracy on Test Data \n",
    "xtest_prediction = model.predict(xtest)\n",
    "test_data_accuracy = accuracy_score(xtest_prediction,ytest)\n",
    "print('Accuracy on Testing Data:',test_data_accuracy)\n",
    "\n",
    "# Part B: Building a Predictive System\n",
    "'''\n",
    "in the input_data give age,sex,cp(chest pain type),trtbps(resting blood pressure),\n",
    "chol(cholestoral in mg/dl),fbs(fasting blood sugar),restecg(resting electrocardiographic results),\n",
    "thalachh(maximum heart rate achieved),exng(excercise induced angina),oldpeak(Previous Peak),slp(slope),\n",
    "caa(number of major vessels),thall(Thal Rate)\n",
    "'''\n",
    "#input_data = (41,0,1,130,204,0,0,172,0,1.4,2,0,2)\n",
    "input_data = (62,0,0,140,268,0,0,160,0,3.6,0,2,2)\n",
    "\n",
    "#change the input data to a numpy array\n",
    "input_data_as_numpy_array = np.asarray(input_data)\n",
    "\n",
    "# reshape the numpy array as we are predicting for only on instance\n",
    "input_data_reshaped = input_data_as_numpy_array.reshape(1,-1)\n",
    "\n",
    "prediction = model.predict(input_data_reshaped)\n",
    "print(prediction)\n",
    "\n",
    "if (prediction[0] == 0):\n",
    "    print(\"The Person does not have a Heart Disease\")\n",
    "else:\n",
    "    print(\"The person has Heart Disease\")"
   ]
  },
  {
   "cell_type": "code",
   "execution_count": null,
   "id": "419281ee",
   "metadata": {},
   "outputs": [],
   "source": []
  }
 ],
 "metadata": {
  "kernelspec": {
   "display_name": "Python 3",
   "language": "python",
   "name": "python3"
  },
  "language_info": {
   "codemirror_mode": {
    "name": "ipython",
    "version": 3
   },
   "file_extension": ".py",
   "mimetype": "text/x-python",
   "name": "python",
   "nbconvert_exporter": "python",
   "pygments_lexer": "ipython3",
   "version": "3.8.8"
  }
 },
 "nbformat": 4,
 "nbformat_minor": 5
}
